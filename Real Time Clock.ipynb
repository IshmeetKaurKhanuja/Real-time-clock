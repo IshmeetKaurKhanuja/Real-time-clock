{
 "cells": [
  {
   "cell_type": "code",
   "execution_count": 26,
   "id": "04764921",
   "metadata": {},
   "outputs": [],
   "source": [
    "from tkinter import *\n",
    "import time"
   ]
  },
  {
   "cell_type": "code",
   "execution_count": 45,
   "id": "e44d7171",
   "metadata": {},
   "outputs": [
    {
     "name": "stdout",
     "output_type": "stream",
     "text": [
      "19 50 54\n",
      "19 50 54\n",
      "19 50 54\n",
      "19 50 54\n",
      "19 50 54\n",
      "19 50 55\n",
      "19 50 55\n",
      "19 50 55\n",
      "19 50 55\n",
      "19 50 56\n",
      "19 50 56\n",
      "19 50 56\n",
      "19 50 56\n",
      "19 50 56\n",
      "19 50 57\n"
     ]
    }
   ],
   "source": [
    "my_clock= Tk()\n",
    "my_clock.title(\"Clock\")\n",
    "my_clock.geometry(\"1350x700+0+0\")\n",
    "my_clock.config(bg=\"black\")\n",
    "\n",
    "def clock():\n",
    "    hr = str(time.strftime(\"%H\"))\n",
    "    mn = str(time.strftime(\"%M\"))\n",
    "    sc = str(time.strftime(\"%S\"))\n",
    "    print(hr,mn,sc)\n",
    "    if int(hr)>12 and int(mn)>0:\n",
    "        lb_dn.config(text=\"PM\") ,lb_dn_text.config(text=\"EVE\")\n",
    "    if int(hr)>12:\n",
    "        hr= str(int(int(hr)-12))\n",
    "    lb_hr.config(text = hr)\n",
    "    lb_mn.config(text = mn)\n",
    "    lb_sc.config(text = sc)\n",
    "    \n",
    "    lb_hr.after(200,clock)\n",
    "    \n",
    "\n",
    "    \n",
    "\n",
    "\n",
    "lb_hr= Label(my_clock, text=\"12\", font=(\"Times 20 bold\", 75, \"bold\"), bg=\"blue\",fg=\"white\")\n",
    "\n",
    "lb_hr.place(x=350,y=200,width=150,height=150)\n",
    "\n",
    "\n",
    "lb_hr_text= Label(my_clock,text=\"Hour\", font=(\"Times 20 bold\", 20, \"bold\"), bg=\"blue\",fg=\"white\")\n",
    "lb_hr_text.place(x=350,y=360,width=150,height=50)\n",
    "\n",
    "\n",
    "\n",
    "lb_mn= Label(my_clock, text=\"12\", font=(\"Times 20 bold\", 75, \"bold\"), bg=\"red\",fg=\"white\")\n",
    "\n",
    "lb_mn.place(x=520,y=200,width=150,height=150)\n",
    "\n",
    "\n",
    "lb_mn_text= Label(my_clock,text=\"Minute\", font=(\"Times 20 bold\", 20, \"bold\"), bg=\"red\",fg=\"white\")\n",
    "lb_mn_text.place(x=520,y=360,width=150,height=50)\n",
    "\n",
    "\n",
    "lb_sc= Label(my_clock, text=\"12\", font=(\"Times 20 bold\", 75, \"bold\"), bg=\"green\",fg=\"white\")\n",
    "\n",
    "lb_sc.place(x=690,y=200,width=150,height=150)\n",
    "\n",
    "\n",
    "lb_sc_text= Label(my_clock,text=\"Second\", font=(\"Times 20 bold\", 20, \"bold\"), bg=\"green\",fg=\"white\")\n",
    "lb_sc_text.place(x=690,y=360,width=150,height=50)\n",
    "\n",
    "\n",
    "lb_dn= Label(my_clock, text=\"AM\", font=(\"Times 20 bold\", 50, \"bold\"), bg=\"white\",fg=\"black\")\n",
    "\n",
    "lb_dn.place(x=860,y=200,width=150,height=150)\n",
    "\n",
    "\n",
    "lb_dn_text= Label(my_clock,text=\"NOON\", font=(\"Times 20 bold\", 20, \"bold\"), bg=\"white\",fg=\"black\")\n",
    "lb_dn_text.place(x=860,y=360,width=150,height=50)\n",
    "\n",
    "\n",
    "clock()\n",
    "my_clock.mainloop()\n"
   ]
  },
  {
   "cell_type": "code",
   "execution_count": null,
   "id": "46de62cc",
   "metadata": {},
   "outputs": [],
   "source": []
  },
  {
   "cell_type": "code",
   "execution_count": null,
   "id": "4d153324",
   "metadata": {},
   "outputs": [],
   "source": []
  }
 ],
 "metadata": {
  "kernelspec": {
   "display_name": "Python 3 (ipykernel)",
   "language": "python",
   "name": "python3"
  },
  "language_info": {
   "codemirror_mode": {
    "name": "ipython",
    "version": 3
   },
   "file_extension": ".py",
   "mimetype": "text/x-python",
   "name": "python",
   "nbconvert_exporter": "python",
   "pygments_lexer": "ipython3",
   "version": "3.9.12"
  }
 },
 "nbformat": 4,
 "nbformat_minor": 5
}
